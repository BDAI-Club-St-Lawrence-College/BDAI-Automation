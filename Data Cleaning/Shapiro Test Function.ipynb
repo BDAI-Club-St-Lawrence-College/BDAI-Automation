{
 "cells": [
  {
   "cell_type": "code",
   "execution_count": null,
   "metadata": {},
   "outputs": [],
   "source": [
    "# Shapiro Check Function\n",
    "# Returns True or False whether a dataframe column (x) passes\n",
    "# the Shapiro test at a specified alpha.\n",
    "# i.e. False - the distribution is not normal\n",
    "#      True - the distribution is normal\n",
    "\n",
    "from scipy.stats import shapiro\n",
    "\n",
    "def shapiro_check(x, alpha):\n",
    "    p = shapiro(x).pvalue\n",
    "    if p > alpha:\n",
    "        return(False)\n",
    "    else:\n",
    "        return(True)"
   ]
  },
  {
   "cell_type": "code",
   "execution_count": null,
   "metadata": {},
   "outputs": [],
   "source": []
  }
 ],
 "metadata": {
  "language_info": {
   "name": "python"
  },
  "orig_nbformat": 4
 },
 "nbformat": 4,
 "nbformat_minor": 2
}

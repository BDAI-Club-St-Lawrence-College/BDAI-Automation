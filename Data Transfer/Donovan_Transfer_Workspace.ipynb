{
 "cells": [
  {
   "cell_type": "code",
   "execution_count": null,
   "metadata": {},
   "outputs": [],
   "source": [
    "## Data Transfer - Donovan's Notebook"
   ]
  },
  {
   "cell_type": "code",
   "execution_count": 1,
   "metadata": {},
   "outputs": [],
   "source": [
    "import pandas as pd"
   ]
  },
  {
   "cell_type": "code",
   "execution_count": 30,
   "metadata": {},
   "outputs": [],
   "source": [
    "## Read in the Excel Files\n",
    "con_xlsx = pd.ExcelFile('Contract.xlsx')\n",
    "con_df = pd.read_excel(con_xlsx, 'Sheet1')\n",
    "\n",
    "att_xlsx = pd.ExcelFile('Attendance.xlsx')\n",
    "att_df = pd.read_excel(att_xlsx, 'Sheet1')"
   ]
  },
  {
   "cell_type": "code",
   "execution_count": 31,
   "metadata": {},
   "outputs": [
    {
     "data": {
      "text/html": [
       "<div>\n",
       "<style scoped>\n",
       "    .dataframe tbody tr th:only-of-type {\n",
       "        vertical-align: middle;\n",
       "    }\n",
       "\n",
       "    .dataframe tbody tr th {\n",
       "        vertical-align: top;\n",
       "    }\n",
       "\n",
       "    .dataframe thead th {\n",
       "        text-align: right;\n",
       "    }\n",
       "</style>\n",
       "<table border=\"1\" class=\"dataframe\">\n",
       "  <thead>\n",
       "    <tr style=\"text-align: right;\">\n",
       "      <th></th>\n",
       "      <th>Name</th>\n",
       "      <th>Type</th>\n",
       "      <th>StartDate</th>\n",
       "      <th>EndDate</th>\n",
       "      <th>HourlyPay</th>\n",
       "    </tr>\n",
       "  </thead>\n",
       "  <tbody>\n",
       "    <tr>\n",
       "      <th>0</th>\n",
       "      <td>Vic</td>\n",
       "      <td>A</td>\n",
       "      <td>2018-04-12</td>\n",
       "      <td>2029-06-29</td>\n",
       "      <td>22.608117</td>\n",
       "    </tr>\n",
       "    <tr>\n",
       "      <th>1</th>\n",
       "      <td>Ann</td>\n",
       "      <td>A</td>\n",
       "      <td>2012-10-28</td>\n",
       "      <td>2030-08-15</td>\n",
       "      <td>32.676168</td>\n",
       "    </tr>\n",
       "    <tr>\n",
       "      <th>2</th>\n",
       "      <td>Adam</td>\n",
       "      <td>A</td>\n",
       "      <td>2020-08-19</td>\n",
       "      <td>2026-09-16</td>\n",
       "      <td>33.215026</td>\n",
       "    </tr>\n",
       "    <tr>\n",
       "      <th>3</th>\n",
       "      <td>Tony</td>\n",
       "      <td>A</td>\n",
       "      <td>2015-11-26</td>\n",
       "      <td>2026-01-19</td>\n",
       "      <td>26.713034</td>\n",
       "    </tr>\n",
       "    <tr>\n",
       "      <th>4</th>\n",
       "      <td>Dora</td>\n",
       "      <td>A</td>\n",
       "      <td>2020-04-15</td>\n",
       "      <td>2030-05-30</td>\n",
       "      <td>30.290598</td>\n",
       "    </tr>\n",
       "  </tbody>\n",
       "</table>\n",
       "</div>"
      ],
      "text/plain": [
       "   Name Type  StartDate    EndDate  HourlyPay\n",
       "0   Vic    A 2018-04-12 2029-06-29  22.608117\n",
       "1   Ann    A 2012-10-28 2030-08-15  32.676168\n",
       "2  Adam    A 2020-08-19 2026-09-16  33.215026\n",
       "3  Tony    A 2015-11-26 2026-01-19  26.713034\n",
       "4  Dora    A 2020-04-15 2030-05-30  30.290598"
      ]
     },
     "execution_count": 31,
     "metadata": {},
     "output_type": "execute_result"
    }
   ],
   "source": [
    "con_df.head()"
   ]
  },
  {
   "cell_type": "code",
   "execution_count": 32,
   "metadata": {},
   "outputs": [
    {
     "data": {
      "text/html": [
       "<div>\n",
       "<style scoped>\n",
       "    .dataframe tbody tr th:only-of-type {\n",
       "        vertical-align: middle;\n",
       "    }\n",
       "\n",
       "    .dataframe tbody tr th {\n",
       "        vertical-align: top;\n",
       "    }\n",
       "\n",
       "    .dataframe thead th {\n",
       "        text-align: right;\n",
       "    }\n",
       "</style>\n",
       "<table border=\"1\" class=\"dataframe\">\n",
       "  <thead>\n",
       "    <tr style=\"text-align: right;\">\n",
       "      <th></th>\n",
       "      <th>ID</th>\n",
       "      <th>Name</th>\n",
       "      <th>ContractType</th>\n",
       "      <th>Date</th>\n",
       "      <th>StartTime</th>\n",
       "      <th>EndTime</th>\n",
       "    </tr>\n",
       "  </thead>\n",
       "  <tbody>\n",
       "    <tr>\n",
       "      <th>0</th>\n",
       "      <td>3978144</td>\n",
       "      <td>Ann</td>\n",
       "      <td>B</td>\n",
       "      <td>2017-01-25</td>\n",
       "      <td>13:09</td>\n",
       "      <td>16:08</td>\n",
       "    </tr>\n",
       "    <tr>\n",
       "      <th>1</th>\n",
       "      <td>3588609</td>\n",
       "      <td>Sam</td>\n",
       "      <td>C</td>\n",
       "      <td>2017-01-27</td>\n",
       "      <td>13:20</td>\n",
       "      <td>23:27</td>\n",
       "    </tr>\n",
       "    <tr>\n",
       "      <th>2</th>\n",
       "      <td>3015452</td>\n",
       "      <td>Sam</td>\n",
       "      <td>A</td>\n",
       "      <td>2017-01-28</td>\n",
       "      <td>14:55</td>\n",
       "      <td>20:42</td>\n",
       "    </tr>\n",
       "    <tr>\n",
       "      <th>3</th>\n",
       "      <td>7697278</td>\n",
       "      <td>Matt</td>\n",
       "      <td>C</td>\n",
       "      <td>2017-02-04</td>\n",
       "      <td>14:37</td>\n",
       "      <td>20:56</td>\n",
       "    </tr>\n",
       "    <tr>\n",
       "      <th>4</th>\n",
       "      <td>6223708</td>\n",
       "      <td>Lucy</td>\n",
       "      <td>C</td>\n",
       "      <td>2017-02-04</td>\n",
       "      <td>14:59</td>\n",
       "      <td>23:10</td>\n",
       "    </tr>\n",
       "  </tbody>\n",
       "</table>\n",
       "</div>"
      ],
      "text/plain": [
       "        ID  Name ContractType       Date StartTime EndTime\n",
       "0  3978144   Ann            B 2017-01-25     13:09   16:08\n",
       "1  3588609   Sam            C 2017-01-27     13:20   23:27\n",
       "2  3015452   Sam            A 2017-01-28     14:55   20:42\n",
       "3  7697278  Matt            C 2017-02-04     14:37   20:56\n",
       "4  6223708  Lucy            C 2017-02-04     14:59   23:10"
      ]
     },
     "execution_count": 32,
     "metadata": {},
     "output_type": "execute_result"
    }
   ],
   "source": [
    "att_df.head()"
   ]
  },
  {
   "cell_type": "code",
   "execution_count": null,
   "metadata": {},
   "outputs": [],
   "source": [
    "## Pseudocode\n",
    "## for each line in attendance\n",
    "##    check whether corresponding name in contract\n",
    "##    check whether corresponding name and type in contract\n",
    "##    check whether date is within StartDate and EndDate"
   ]
  },
  {
   "cell_type": "code",
   "execution_count": 75,
   "metadata": {},
   "outputs": [],
   "source": [
    "att_df['Type'] = att_df['ContractType']      "
   ]
  },
  {
   "cell_type": "code",
   "execution_count": 100,
   "metadata": {},
   "outputs": [
    {
     "ename": "KeyError",
     "evalue": "'Name'",
     "output_type": "error",
     "traceback": [
      "\u001b[1;31m---------------------------------------------------------------------------\u001b[0m",
      "\u001b[1;31mKeyError\u001b[0m                                  Traceback (most recent call last)",
      "\u001b[1;32mc:\\Business Analytics\\Semester 3\\BDAI\\Automation Fork\\BDAI-Excel-Automation\\Data Transfer\\Donovan_Transfer_Workspace.ipynb Cell 8'\u001b[0m in \u001b[0;36m<module>\u001b[1;34m\u001b[0m\n\u001b[0;32m      <a href='vscode-notebook-cell:/c%3A/Business%20Analytics/Semester%203/BDAI/Automation%20Fork/BDAI-Excel-Automation/Data%20Transfer/Donovan_Transfer_Workspace.ipynb#ch0000010?line=0'>1</a>\u001b[0m \u001b[39m## Not working yet - Key Error\u001b[39;00m\n\u001b[0;32m      <a href='vscode-notebook-cell:/c%3A/Business%20Analytics/Semester%203/BDAI/Automation%20Fork/BDAI-Excel-Automation/Data%20Transfer/Donovan_Transfer_Workspace.ipynb#ch0000010?line=2'>3</a>\u001b[0m \u001b[39mfor\u001b[39;00m index, row \u001b[39min\u001b[39;00m att_df\u001b[39m.\u001b[39miterrows():\n\u001b[1;32m----> <a href='vscode-notebook-cell:/c%3A/Business%20Analytics/Semester%203/BDAI/Automation%20Fork/BDAI-Excel-Automation/Data%20Transfer/Donovan_Transfer_Workspace.ipynb#ch0000010?line=3'>4</a>\u001b[0m     pd\u001b[39m.\u001b[39;49mmerge(row, con_df, on\u001b[39m=\u001b[39;49m[\u001b[39m'\u001b[39;49m\u001b[39mName\u001b[39;49m\u001b[39m'\u001b[39;49m, \u001b[39m'\u001b[39;49m\u001b[39mType\u001b[39;49m\u001b[39m'\u001b[39;49m], how \u001b[39m=\u001b[39;49m \u001b[39m'\u001b[39;49m\u001b[39mleft\u001b[39;49m\u001b[39m'\u001b[39;49m, indicator\u001b[39m=\u001b[39;49m\u001b[39m'\u001b[39;49m\u001b[39mExist\u001b[39;49m\u001b[39m'\u001b[39;49m)\n\u001b[0;32m      <a href='vscode-notebook-cell:/c%3A/Business%20Analytics/Semester%203/BDAI/Automation%20Fork/BDAI-Excel-Automation/Data%20Transfer/Donovan_Transfer_Workspace.ipynb#ch0000010?line=4'>5</a>\u001b[0m     \u001b[39mif\u001b[39;00m (row[\u001b[39m'\u001b[39m\u001b[39mStartDate\u001b[39m\u001b[39m'\u001b[39m] \u001b[39m<\u001b[39m\u001b[39m=\u001b[39m row[\u001b[39m'\u001b[39m\u001b[39mDate\u001b[39m\u001b[39m'\u001b[39m]) \u001b[39m&\u001b[39m (row[\u001b[39m'\u001b[39m\u001b[39mDate\u001b[39m\u001b[39m'\u001b[39m] \u001b[39m<\u001b[39m\u001b[39m=\u001b[39m row[\u001b[39m'\u001b[39m\u001b[39mEndDate\u001b[39m\u001b[39m'\u001b[39m]):\n\u001b[0;32m      <a href='vscode-notebook-cell:/c%3A/Business%20Analytics/Semester%203/BDAI/Automation%20Fork/BDAI-Excel-Automation/Data%20Transfer/Donovan_Transfer_Workspace.ipynb#ch0000010?line=5'>6</a>\u001b[0m         att_df[\u001b[39m'\u001b[39m\u001b[39mGood Record\u001b[39m\u001b[39m'\u001b[39m][row] \u001b[39m=\u001b[39m \u001b[39mTrue\u001b[39;00m\n",
      "File \u001b[1;32mc:\\Users\\debangs\\AppData\\Local\\Programs\\Python\\Python39\\lib\\site-packages\\pandas\\core\\reshape\\merge.py:106\u001b[0m, in \u001b[0;36mmerge\u001b[1;34m(left, right, how, on, left_on, right_on, left_index, right_index, sort, suffixes, copy, indicator, validate)\u001b[0m\n\u001b[0;32m     <a href='file:///c%3A/Users/debangs/AppData/Local/Programs/Python/Python39/lib/site-packages/pandas/core/reshape/merge.py?line=88'>89</a>\u001b[0m \u001b[39m@Substitution\u001b[39m(\u001b[39m\"\u001b[39m\u001b[39m\\n\u001b[39;00m\u001b[39mleft : DataFrame or named Series\u001b[39m\u001b[39m\"\u001b[39m)\n\u001b[0;32m     <a href='file:///c%3A/Users/debangs/AppData/Local/Programs/Python/Python39/lib/site-packages/pandas/core/reshape/merge.py?line=89'>90</a>\u001b[0m \u001b[39m@Appender\u001b[39m(_merge_doc, indents\u001b[39m=\u001b[39m\u001b[39m0\u001b[39m)\n\u001b[0;32m     <a href='file:///c%3A/Users/debangs/AppData/Local/Programs/Python/Python39/lib/site-packages/pandas/core/reshape/merge.py?line=90'>91</a>\u001b[0m \u001b[39mdef\u001b[39;00m \u001b[39mmerge\u001b[39m(\n\u001b[1;32m   (...)\u001b[0m\n\u001b[0;32m    <a href='file:///c%3A/Users/debangs/AppData/Local/Programs/Python/Python39/lib/site-packages/pandas/core/reshape/merge.py?line=103'>104</a>\u001b[0m     validate: \u001b[39mstr\u001b[39m \u001b[39m|\u001b[39m \u001b[39mNone\u001b[39;00m \u001b[39m=\u001b[39m \u001b[39mNone\u001b[39;00m,\n\u001b[0;32m    <a href='file:///c%3A/Users/debangs/AppData/Local/Programs/Python/Python39/lib/site-packages/pandas/core/reshape/merge.py?line=104'>105</a>\u001b[0m ) \u001b[39m-\u001b[39m\u001b[39m>\u001b[39m DataFrame:\n\u001b[1;32m--> <a href='file:///c%3A/Users/debangs/AppData/Local/Programs/Python/Python39/lib/site-packages/pandas/core/reshape/merge.py?line=105'>106</a>\u001b[0m     op \u001b[39m=\u001b[39m _MergeOperation(\n\u001b[0;32m    <a href='file:///c%3A/Users/debangs/AppData/Local/Programs/Python/Python39/lib/site-packages/pandas/core/reshape/merge.py?line=106'>107</a>\u001b[0m         left,\n\u001b[0;32m    <a href='file:///c%3A/Users/debangs/AppData/Local/Programs/Python/Python39/lib/site-packages/pandas/core/reshape/merge.py?line=107'>108</a>\u001b[0m         right,\n\u001b[0;32m    <a href='file:///c%3A/Users/debangs/AppData/Local/Programs/Python/Python39/lib/site-packages/pandas/core/reshape/merge.py?line=108'>109</a>\u001b[0m         how\u001b[39m=\u001b[39;49mhow,\n\u001b[0;32m    <a href='file:///c%3A/Users/debangs/AppData/Local/Programs/Python/Python39/lib/site-packages/pandas/core/reshape/merge.py?line=109'>110</a>\u001b[0m         on\u001b[39m=\u001b[39;49mon,\n\u001b[0;32m    <a href='file:///c%3A/Users/debangs/AppData/Local/Programs/Python/Python39/lib/site-packages/pandas/core/reshape/merge.py?line=110'>111</a>\u001b[0m         left_on\u001b[39m=\u001b[39;49mleft_on,\n\u001b[0;32m    <a href='file:///c%3A/Users/debangs/AppData/Local/Programs/Python/Python39/lib/site-packages/pandas/core/reshape/merge.py?line=111'>112</a>\u001b[0m         right_on\u001b[39m=\u001b[39;49mright_on,\n\u001b[0;32m    <a href='file:///c%3A/Users/debangs/AppData/Local/Programs/Python/Python39/lib/site-packages/pandas/core/reshape/merge.py?line=112'>113</a>\u001b[0m         left_index\u001b[39m=\u001b[39;49mleft_index,\n\u001b[0;32m    <a href='file:///c%3A/Users/debangs/AppData/Local/Programs/Python/Python39/lib/site-packages/pandas/core/reshape/merge.py?line=113'>114</a>\u001b[0m         right_index\u001b[39m=\u001b[39;49mright_index,\n\u001b[0;32m    <a href='file:///c%3A/Users/debangs/AppData/Local/Programs/Python/Python39/lib/site-packages/pandas/core/reshape/merge.py?line=114'>115</a>\u001b[0m         sort\u001b[39m=\u001b[39;49msort,\n\u001b[0;32m    <a href='file:///c%3A/Users/debangs/AppData/Local/Programs/Python/Python39/lib/site-packages/pandas/core/reshape/merge.py?line=115'>116</a>\u001b[0m         suffixes\u001b[39m=\u001b[39;49msuffixes,\n\u001b[0;32m    <a href='file:///c%3A/Users/debangs/AppData/Local/Programs/Python/Python39/lib/site-packages/pandas/core/reshape/merge.py?line=116'>117</a>\u001b[0m         copy\u001b[39m=\u001b[39;49mcopy,\n\u001b[0;32m    <a href='file:///c%3A/Users/debangs/AppData/Local/Programs/Python/Python39/lib/site-packages/pandas/core/reshape/merge.py?line=117'>118</a>\u001b[0m         indicator\u001b[39m=\u001b[39;49mindicator,\n\u001b[0;32m    <a href='file:///c%3A/Users/debangs/AppData/Local/Programs/Python/Python39/lib/site-packages/pandas/core/reshape/merge.py?line=118'>119</a>\u001b[0m         validate\u001b[39m=\u001b[39;49mvalidate,\n\u001b[0;32m    <a href='file:///c%3A/Users/debangs/AppData/Local/Programs/Python/Python39/lib/site-packages/pandas/core/reshape/merge.py?line=119'>120</a>\u001b[0m     )\n\u001b[0;32m    <a href='file:///c%3A/Users/debangs/AppData/Local/Programs/Python/Python39/lib/site-packages/pandas/core/reshape/merge.py?line=120'>121</a>\u001b[0m     \u001b[39mreturn\u001b[39;00m op\u001b[39m.\u001b[39mget_result()\n",
      "File \u001b[1;32mc:\\Users\\debangs\\AppData\\Local\\Programs\\Python\\Python39\\lib\\site-packages\\pandas\\core\\reshape\\merge.py:699\u001b[0m, in \u001b[0;36m_MergeOperation.__init__\u001b[1;34m(self, left, right, how, on, left_on, right_on, axis, left_index, right_index, sort, suffixes, copy, indicator, validate)\u001b[0m\n\u001b[0;32m    <a href='file:///c%3A/Users/debangs/AppData/Local/Programs/Python/Python39/lib/site-packages/pandas/core/reshape/merge.py?line=691'>692</a>\u001b[0m \u001b[39mself\u001b[39m\u001b[39m.\u001b[39m_cross \u001b[39m=\u001b[39m cross_col\n\u001b[0;32m    <a href='file:///c%3A/Users/debangs/AppData/Local/Programs/Python/Python39/lib/site-packages/pandas/core/reshape/merge.py?line=693'>694</a>\u001b[0m \u001b[39m# note this function has side effects\u001b[39;00m\n\u001b[0;32m    <a href='file:///c%3A/Users/debangs/AppData/Local/Programs/Python/Python39/lib/site-packages/pandas/core/reshape/merge.py?line=694'>695</a>\u001b[0m (\n\u001b[0;32m    <a href='file:///c%3A/Users/debangs/AppData/Local/Programs/Python/Python39/lib/site-packages/pandas/core/reshape/merge.py?line=695'>696</a>\u001b[0m     \u001b[39mself\u001b[39m\u001b[39m.\u001b[39mleft_join_keys,\n\u001b[0;32m    <a href='file:///c%3A/Users/debangs/AppData/Local/Programs/Python/Python39/lib/site-packages/pandas/core/reshape/merge.py?line=696'>697</a>\u001b[0m     \u001b[39mself\u001b[39m\u001b[39m.\u001b[39mright_join_keys,\n\u001b[0;32m    <a href='file:///c%3A/Users/debangs/AppData/Local/Programs/Python/Python39/lib/site-packages/pandas/core/reshape/merge.py?line=697'>698</a>\u001b[0m     \u001b[39mself\u001b[39m\u001b[39m.\u001b[39mjoin_names,\n\u001b[1;32m--> <a href='file:///c%3A/Users/debangs/AppData/Local/Programs/Python/Python39/lib/site-packages/pandas/core/reshape/merge.py?line=698'>699</a>\u001b[0m ) \u001b[39m=\u001b[39m \u001b[39mself\u001b[39;49m\u001b[39m.\u001b[39;49m_get_merge_keys()\n\u001b[0;32m    <a href='file:///c%3A/Users/debangs/AppData/Local/Programs/Python/Python39/lib/site-packages/pandas/core/reshape/merge.py?line=700'>701</a>\u001b[0m \u001b[39m# validate the merge keys dtypes. We may need to coerce\u001b[39;00m\n\u001b[0;32m    <a href='file:///c%3A/Users/debangs/AppData/Local/Programs/Python/Python39/lib/site-packages/pandas/core/reshape/merge.py?line=701'>702</a>\u001b[0m \u001b[39m# to avoid incompatible dtypes\u001b[39;00m\n\u001b[0;32m    <a href='file:///c%3A/Users/debangs/AppData/Local/Programs/Python/Python39/lib/site-packages/pandas/core/reshape/merge.py?line=702'>703</a>\u001b[0m \u001b[39mself\u001b[39m\u001b[39m.\u001b[39m_maybe_coerce_merge_keys()\n",
      "File \u001b[1;32mc:\\Users\\debangs\\AppData\\Local\\Programs\\Python\\Python39\\lib\\site-packages\\pandas\\core\\reshape\\merge.py:1109\u001b[0m, in \u001b[0;36m_MergeOperation._get_merge_keys\u001b[1;34m(self)\u001b[0m\n\u001b[0;32m   <a href='file:///c%3A/Users/debangs/AppData/Local/Programs/Python/Python39/lib/site-packages/pandas/core/reshape/merge.py?line=1106'>1107</a>\u001b[0m     right_keys\u001b[39m.\u001b[39mappend(rk)\n\u001b[0;32m   <a href='file:///c%3A/Users/debangs/AppData/Local/Programs/Python/Python39/lib/site-packages/pandas/core/reshape/merge.py?line=1107'>1108</a>\u001b[0m \u001b[39mif\u001b[39;00m lk \u001b[39mis\u001b[39;00m \u001b[39mnot\u001b[39;00m \u001b[39mNone\u001b[39;00m:\n\u001b[1;32m-> <a href='file:///c%3A/Users/debangs/AppData/Local/Programs/Python/Python39/lib/site-packages/pandas/core/reshape/merge.py?line=1108'>1109</a>\u001b[0m     left_keys\u001b[39m.\u001b[39mappend(left\u001b[39m.\u001b[39;49m_get_label_or_level_values(lk))\n\u001b[0;32m   <a href='file:///c%3A/Users/debangs/AppData/Local/Programs/Python/Python39/lib/site-packages/pandas/core/reshape/merge.py?line=1109'>1110</a>\u001b[0m     join_names\u001b[39m.\u001b[39mappend(lk)\n\u001b[0;32m   <a href='file:///c%3A/Users/debangs/AppData/Local/Programs/Python/Python39/lib/site-packages/pandas/core/reshape/merge.py?line=1110'>1111</a>\u001b[0m \u001b[39melse\u001b[39;00m:\n\u001b[0;32m   <a href='file:///c%3A/Users/debangs/AppData/Local/Programs/Python/Python39/lib/site-packages/pandas/core/reshape/merge.py?line=1111'>1112</a>\u001b[0m     \u001b[39m# work-around for merge_asof(left_index=True)\u001b[39;00m\n",
      "File \u001b[1;32mc:\\Users\\debangs\\AppData\\Local\\Programs\\Python\\Python39\\lib\\site-packages\\pandas\\core\\generic.py:1779\u001b[0m, in \u001b[0;36mNDFrame._get_label_or_level_values\u001b[1;34m(self, key, axis)\u001b[0m\n\u001b[0;32m   <a href='file:///c%3A/Users/debangs/AppData/Local/Programs/Python/Python39/lib/site-packages/pandas/core/generic.py?line=1776'>1777</a>\u001b[0m     values \u001b[39m=\u001b[39m \u001b[39mself\u001b[39m\u001b[39m.\u001b[39maxes[axis]\u001b[39m.\u001b[39mget_level_values(key)\u001b[39m.\u001b[39m_values\n\u001b[0;32m   <a href='file:///c%3A/Users/debangs/AppData/Local/Programs/Python/Python39/lib/site-packages/pandas/core/generic.py?line=1777'>1778</a>\u001b[0m \u001b[39melse\u001b[39;00m:\n\u001b[1;32m-> <a href='file:///c%3A/Users/debangs/AppData/Local/Programs/Python/Python39/lib/site-packages/pandas/core/generic.py?line=1778'>1779</a>\u001b[0m     \u001b[39mraise\u001b[39;00m \u001b[39mKeyError\u001b[39;00m(key)\n\u001b[0;32m   <a href='file:///c%3A/Users/debangs/AppData/Local/Programs/Python/Python39/lib/site-packages/pandas/core/generic.py?line=1780'>1781</a>\u001b[0m \u001b[39m# Check for duplicates\u001b[39;00m\n\u001b[0;32m   <a href='file:///c%3A/Users/debangs/AppData/Local/Programs/Python/Python39/lib/site-packages/pandas/core/generic.py?line=1781'>1782</a>\u001b[0m \u001b[39mif\u001b[39;00m values\u001b[39m.\u001b[39mndim \u001b[39m>\u001b[39m \u001b[39m1\u001b[39m:\n",
      "\u001b[1;31mKeyError\u001b[0m: 'Name'"
     ]
    }
   ],
   "source": [
    "## Not working yet - Key Error? - whether 'row' is a tuple or other?\n",
    "\n",
    "for index, row in att_df.iterrows():\n",
    "    pd.merge(row, con_df, on=['Name', 'Type'], how = 'left', indicator='Exist')\n",
    "    if (row['StartDate'] <= row['Date']) & (row['Date'] <= row['EndDate']):\n",
    "        att_df['Good Record'][row] = True\n",
    "    else:\n",
    "        att_df['Good Record'][row] = False"
   ]
  },
  {
   "cell_type": "code",
   "execution_count": 55,
   "metadata": {},
   "outputs": [
    {
     "name": "stderr",
     "output_type": "stream",
     "text": [
      "C:\\Users\\debangs\\AppData\\Local\\Temp\\ipykernel_5136\\3559482325.py:3: SettingWithCopyWarning: \n",
      "A value is trying to be set on a copy of a slice from a DataFrame.\n",
      "Try using .loc[row_indexer,col_indexer] = value instead\n",
      "\n",
      "See the caveats in the documentation: https://pandas.pydata.org/pandas-docs/stable/user_guide/indexing.html#returning-a-view-versus-a-copy\n",
      "  test['Type'] = test['ContractType']\n"
     ]
    }
   ],
   "source": [
    "test = att_df.iloc[[0]]\n",
    "\n",
    "test['Type'] = test['ContractType']\n",
    "\n",
    "test_df = pd.merge(test, con_df, on=['Name', 'Type'], how = 'left', indicator='Exist')"
   ]
  },
  {
   "cell_type": "code",
   "execution_count": 62,
   "metadata": {},
   "outputs": [
    {
     "data": {
      "text/plain": [
       "0    True\n",
       "dtype: bool"
      ]
     },
     "execution_count": 62,
     "metadata": {},
     "output_type": "execute_result"
    }
   ],
   "source": [
    "## Test date-checking boolean logic\n",
    "(test_df['StartDate'] <= test_df['Date']) & (test_df['Date'] <= test_df['EndDate'])"
   ]
  }
 ],
 "metadata": {
  "interpreter": {
   "hash": "dc7fae0a1c3b75bbd075a0193ab08b38368b4c946ed91f25444e9edb1ad0cd1a"
  },
  "kernelspec": {
   "display_name": "Python 3.9.7 64-bit",
   "language": "python",
   "name": "python3"
  },
  "language_info": {
   "codemirror_mode": {
    "name": "ipython",
    "version": 3
   },
   "file_extension": ".py",
   "mimetype": "text/x-python",
   "name": "python",
   "nbconvert_exporter": "python",
   "pygments_lexer": "ipython3",
   "version": "3.9.7"
  },
  "orig_nbformat": 4
 },
 "nbformat": 4,
 "nbformat_minor": 2
}
